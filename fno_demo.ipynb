{
 "cells": [
  {
   "attachments": {},
   "cell_type": "markdown",
   "metadata": {},
   "source": [
    "# Using FNO Architectures to solve Inverse Problems\n",
    "\n",
    "### Intro to Inverse Problems\n",
    "***What is an inverse problem?***\\\n",
    "An inverse problem is a problem in which one seeks to determine the causes or inputs that gave rise to observed or measured outputs. In other words, given some observed or measured data, the inverse problem involves determining the unknown inputs or causes that produced the observed outputs.\n",
    "\n",
    "\n",
    "***What is an ill-posed problem?*** \\\n",
    "In mathematics and science, an ill-posed problem is a problem that does not satisfy one or more of the three conditions of well-posedness: \n",
    "* existence - a solution must exist\n",
    "* uniqueness - every solution must be unique\n",
    "* stability of the solution - a small error in the input data or parameters should not lead to a large error in the solution.\n",
    "\n",
    "***What is an ill-posed inverse problem?***\\\n",
    "An ill-posed inverse problem is a type of inverse problem that is also ill-posed. In other words, the problem of inferring the unknown inputs or causes that gave rise to observed or measured outputs does not satisfy one or more of the conditions of well-posedness, such as existence, uniqueness, and stability of the solution\n",
    "\n"
   ]
  },
  {
   "cell_type": "code",
   "execution_count": 1,
   "metadata": {},
   "outputs": [],
   "source": [
    "# initial set-up\n",
    "import numpy as np\n",
    "import torch\n",
    "import torch.nn as nn\n",
    "import torch.nn.functional as F\n",
    "from torch.nn.parameter import Parameter\n",
    "import matplotlib.pyplot as plt\n",
    "from sklearn.model_selection import train_test_split\n",
    "from torch.utils.data import Dataset, DataLoader, TensorDataset\n",
    "import operator\n",
    "from functools import reduce\n",
    "from functools import partial\n",
    "from timeit import default_timer\n",
    "from utilities3 import *\n",
    "\n",
    "from Adam import Adam\n",
    "from sewar.full_ref import rmse, uqi\n",
    "from skimage.metrics import structural_similarity as ssim\n",
    "from skimage.metrics import peak_signal_noise_ratio as psnr\n",
    "from tabulate import tabulate\n",
    "\n",
    "torch.manual_seed(0)\n",
    "np.random.seed(0)"
   ]
  },
  {
   "attachments": {},
   "cell_type": "markdown",
   "metadata": {},
   "source": [
    "### Testing OS and Conda is correctly configured"
   ]
  },
  {
   "cell_type": "code",
   "execution_count": 3,
   "metadata": {},
   "outputs": [
    {
     "name": "stdout",
     "output_type": "stream",
     "text": [
      "True\n",
      "True\n"
     ]
    }
   ],
   "source": [
    "import torch\n",
    "import math\n",
    "# this ensures that the current MacOS version is at least 12.3+\n",
    "print(torch.backends.mps.is_available())\n",
    "# this ensures that the current current PyTorch installation was built with MPS activated.\n",
    "print(torch.backends.mps.is_built())\n"
   ]
  },
  {
   "cell_type": "code",
   "execution_count": 20,
   "metadata": {},
   "outputs": [
    {
     "name": "stdout",
     "output_type": "stream",
     "text": [
      "99 2989.42822265625\n",
      "199 1984.134521484375\n",
      "299 1318.100830078125\n",
      "399 876.7781982421875\n",
      "499 584.3113403320312\n",
      "599 390.4630126953125\n",
      "699 261.95904541015625\n",
      "799 176.75814819335938\n",
      "899 120.25811767578125\n",
      "999 82.78327941894531\n",
      "1099 57.922401428222656\n",
      "1199 41.426185607910156\n",
      "1299 30.47764778137207\n",
      "1399 23.20935821533203\n",
      "1499 18.382991790771484\n",
      "1599 15.17722225189209\n",
      "1699 13.047297477722168\n",
      "1799 11.631707191467285\n",
      "1899 10.69057846069336\n",
      "1999 10.064638137817383\n",
      "Result: y = -0.012183338403701782 + 0.8242813348770142 x + 0.0021018297411501408 x^2 + -0.08871332556009293 x^3\n"
     ]
    }
   ],
   "source": [
    "dtype = torch.float\n",
    "device = torch.device(\"mps\")\n",
    "\n",
    "# Create random input and output data\n",
    "x = torch.linspace(-math.pi, math.pi, 2000, device=device, dtype=dtype)\n",
    "y = torch.sin(x)\n",
    "\n",
    "# Randomly initialize weights\n",
    "a = torch.randn((), device=device, dtype=dtype)\n",
    "b = torch.randn((), device=device, dtype=dtype)\n",
    "c = torch.randn((), device=device, dtype=dtype)\n",
    "d = torch.randn((), device=device, dtype=dtype)\n",
    "\n",
    "learning_rate = 1e-6\n",
    "for t in range(2000):\n",
    "    # Forward pass: compute predicted y\n",
    "    y_pred = a + b * x + c * x ** 2 + d * x ** 3\n",
    "\n",
    "    # Compute and print loss\n",
    "    loss = (y_pred - y).pow(2).sum().item()\n",
    "    if t % 100 == 99:\n",
    "        print(t, loss)\n",
    "\n",
    "# Backprop to compute gradients of a, b, c, d with respect to loss\n",
    "    grad_y_pred = 2.0 * (y_pred - y)\n",
    "    grad_a = grad_y_pred.sum()\n",
    "    grad_b = (grad_y_pred * x).sum()\n",
    "    grad_c = (grad_y_pred * x ** 2).sum()\n",
    "    grad_d = (grad_y_pred * x ** 3).sum()\n",
    "\n",
    "    # Update weights using gradient descent\n",
    "    a -= learning_rate * grad_a\n",
    "    b -= learning_rate * grad_b\n",
    "    c -= learning_rate * grad_c\n",
    "    d -= learning_rate * grad_d\n",
    "\n",
    "\n",
    "print(f'Result: y = {a.item()} + {b.item()} x + {c.item()} x^2 + {d.item()} x^3')"
   ]
  },
  {
   "attachments": {},
   "cell_type": "markdown",
   "metadata": {},
   "source": [
    "# Implementing the FNO "
   ]
  },
  {
   "attachments": {},
   "cell_type": "markdown",
   "metadata": {},
   "source": [
    "### 3D Implementation to the Navier Stokes"
   ]
  },
  {
   "cell_type": "code",
   "execution_count": 61,
   "metadata": {},
   "outputs": [],
   "source": [
    "#  CONFIGURATIONS - HYPER PARAMETERS\n",
    "################################################################\n",
    "batch_size = 10\n",
    "learning_rate = 0.001\n",
    "\n",
    "epochs = 20\n",
    "step_size = 50\n",
    "gamma = 0.5\n",
    "\n",
    "modes = 5\n",
    "width = 64\n",
    "\n",
    "weight_decay=1e-4"
   ]
  },
  {
   "cell_type": "code",
   "execution_count": 50,
   "metadata": {},
   "outputs": [],
   "source": [
    "################################################################\n",
    "# 3d fourier layers\n",
    "################################################################\n",
    "\n",
    "class SpectralConv3d(nn.Module):\n",
    "    def __init__(self, in_channels, out_channels, modes1, modes2, modes3):\n",
    "        super(SpectralConv3d, self).__init__()\n",
    "\n",
    "        \"\"\"\n",
    "        3D Fourier layer. It does FFT, linear transform, and Inverse FFT.    \n",
    "        \"\"\"\n",
    "\n",
    "        self.in_channels = in_channels\n",
    "        self.out_channels = out_channels\n",
    "        self.modes1 = modes1 #Number of Fourier modes to multiply, at most floor(N/2) + 1\n",
    "        self.modes2 = modes2\n",
    "        self.modes3 = modes3\n",
    "\n",
    "        self.scale = (1 / (in_channels * out_channels))\n",
    "        self.weights1 = nn.Parameter(self.scale * torch.rand(in_channels, out_channels, self.modes1, self.modes2, self.modes3, dtype=torch.cfloat))\n",
    "        self.weights2 = nn.Parameter(self.scale * torch.rand(in_channels, out_channels, self.modes1, self.modes2, self.modes3, dtype=torch.cfloat))\n",
    "        self.weights3 = nn.Parameter(self.scale * torch.rand(in_channels, out_channels, self.modes1, self.modes2, self.modes3, dtype=torch.cfloat))\n",
    "        self.weights4 = nn.Parameter(self.scale * torch.rand(in_channels, out_channels, self.modes1, self.modes2, self.modes3, dtype=torch.cfloat))\n",
    "\n",
    "    # Complex multiplication\n",
    "    def compl_mul3d(self, input, weights):\n",
    "        # (batch, in_channel, x,y,t ), (in_channel, out_channel, x,y,t) -> (batch, out_channel, x,y,t)\n",
    "        return torch.einsum(\"bixyz,ioxyz->boxyz\", input, weights)\n",
    "\n",
    "    def forward(self, x):\n",
    "        batchsize = x.shape[0]\n",
    "        #Compute Fourier coeffcients up to factor of e^(- something constant)\n",
    "        x_ft = torch.fft.rfftn(x, dim=[-3,-2,-1])\n",
    "\n",
    "        # Multiply relevant Fourier modes\n",
    "        out_ft = torch.zeros(batchsize, self.out_channels, x.size(-3), x.size(-2), x.size(-1)//2 + 1, dtype=torch.cfloat, device=x.device)\n",
    "        out_ft[:, :, :self.modes1, :self.modes2, :self.modes3] = \\\n",
    "            self.compl_mul3d(x_ft[:, :, :self.modes1, :self.modes2, :self.modes3], self.weights1)\n",
    "        out_ft[:, :, -self.modes1:, :self.modes2, :self.modes3] = \\\n",
    "            self.compl_mul3d(x_ft[:, :, -self.modes1:, :self.modes2, :self.modes3], self.weights2)\n",
    "        out_ft[:, :, :self.modes1, -self.modes2:, :self.modes3] = \\\n",
    "            self.compl_mul3d(x_ft[:, :, :self.modes1, -self.modes2:, :self.modes3], self.weights3)\n",
    "        out_ft[:, :, -self.modes1:, -self.modes2:, :self.modes3] = \\\n",
    "            self.compl_mul3d(x_ft[:, :, -self.modes1:, -self.modes2:, :self.modes3], self.weights4)\n",
    "\n",
    "        #Return to physical space\n",
    "        x = torch.fft.irfftn(out_ft, s=(x.size(-3), x.size(-2), x.size(-1)))\n",
    "        return x\n",
    "\n",
    "class MLP(nn.Module):\n",
    "    def __init__(self, in_channels, out_channels, mid_channels):\n",
    "        super(MLP, self).__init__()\n",
    "        self.mlp1 = nn.Conv3d(in_channels, mid_channels, 1)\n",
    "        self.mlp2 = nn.Conv3d(mid_channels, out_channels, 1)\n",
    "\n",
    "    def forward(self, x):\n",
    "        x = self.mlp1(x)\n",
    "        x = F.gelu(x)\n",
    "        x = self.mlp2(x)\n",
    "        return x\n",
    "\n",
    "class FNO3d(nn.Module):\n",
    "    def __init__(self, modes1, modes2, modes3, width):\n",
    "        super(FNO3d, self).__init__()\n",
    "\n",
    "        \"\"\"\n",
    "        The overall network. It contains 4 layers of the Fourier layer.\n",
    "        1. Lift the input to the desire channel dimension by self.fc0 .\n",
    "        2. 4 layers of the integral operators u' = (W + K)(u).\n",
    "            W defined by self.w; K defined by self.conv .\n",
    "        3. Project from the channel space to the output space by self.fc1 and self.fc2 .\n",
    "        \n",
    "        input: the solution of the first 10 timesteps + 3 locations (u(1, x, y), ..., u(10, x, y),  x, y, t). It's a constant function in time, except for the last index.\n",
    "        input shape: (batchsize, x=64, y=64, t=40, c=13)\n",
    "        output: the solution of the next 40 timesteps\n",
    "        output shape: (batchsize, x=64, y=64, t=40, c=1)\n",
    "        \"\"\"\n",
    "\n",
    "        self.modes1 = modes1\n",
    "        self.modes2 = modes2\n",
    "        self.modes3 = modes3\n",
    "        self.width = width\n",
    "        self.padding = 6 # pad the domain if input is non-periodic\n",
    "\n",
    "        self.p = nn.Linear(13, self.width)# input channel is 12: the solution of the first 10 timesteps + 3 locations (u(1, x, y), ..., u(10, x, y),  x, y, t)\n",
    "        self.conv0 = SpectralConv3d(self.width, self.width, self.modes1, self.modes2, self.modes3)\n",
    "        self.conv1 = SpectralConv3d(self.width, self.width, self.modes1, self.modes2, self.modes3)\n",
    "        self.conv2 = SpectralConv3d(self.width, self.width, self.modes1, self.modes2, self.modes3)\n",
    "        self.conv3 = SpectralConv3d(self.width, self.width, self.modes1, self.modes2, self.modes3)\n",
    "        self.mlp0 = MLP(self.width, self.width, self.width)\n",
    "        self.mlp1 = MLP(self.width, self.width, self.width)\n",
    "        self.mlp2 = MLP(self.width, self.width, self.width)\n",
    "        self.mlp3 = MLP(self.width, self.width, self.width)\n",
    "        self.w0 = nn.Conv3d(self.width, self.width, 1)\n",
    "        self.w1 = nn.Conv3d(self.width, self.width, 1)\n",
    "        self.w2 = nn.Conv3d(self.width, self.width, 1)\n",
    "        self.w3 = nn.Conv3d(self.width, self.width, 1)\n",
    "        self.q = MLP(self.width, 1, self.width * 4) # output channel is 1: u(x, y)\n",
    "\n",
    "    def forward(self, x):\n",
    "        grid = self.get_grid(x.shape, x.device)\n",
    "        x = torch.cat((x, grid), dim=-1)\n",
    "        x = self.p(x)\n",
    "        x = x.permute(0, 4, 1, 2, 3)\n",
    "        x = F.pad(x, [0,self.padding]) # pad the domain if input is non-periodic\n",
    "\n",
    "        x1 = self.conv0(x)\n",
    "        x1 = self.mlp0(x1)\n",
    "        x2 = self.w0(x)\n",
    "        x = x1 + x2\n",
    "        x = F.gelu(x)\n",
    "\n",
    "        x1 = self.conv1(x)\n",
    "        x1 = self.mlp1(x1)\n",
    "        x2 = self.w1(x)\n",
    "        x = x1 + x2\n",
    "        x = F.gelu(x)\n",
    "\n",
    "        x1 = self.conv2(x)\n",
    "        x1 = self.mlp2(x1)\n",
    "        x2 = self.w2(x)\n",
    "        x = x1 + x2\n",
    "        x = F.gelu(x)\n",
    "\n",
    "        x1 = self.conv3(x)\n",
    "        x1 = self.mlp3(x1)\n",
    "        x2 = self.w3(x)\n",
    "        x = x1 + x2\n",
    "\n",
    "        x = x[..., :-self.padding]\n",
    "        x = self.q(x)\n",
    "        x = x.permute(0, 2, 3, 4, 1) # pad the domain if input is non-periodic\n",
    "        return x\n",
    "\n",
    "\n",
    "    def get_grid(self, shape, device):\n",
    "        batchsize, size_x, size_y, size_z = shape[0], shape[1], shape[2], shape[3]\n",
    "        gridx = torch.tensor(np.linspace(0, 1, size_x), dtype=torch.float)\n",
    "        gridx = gridx.reshape(1, size_x, 1, 1, 1).repeat([batchsize, 1, size_y, size_z, 1])\n",
    "        gridy = torch.tensor(np.linspace(0, 1, size_y), dtype=torch.float)\n",
    "        gridy = gridy.reshape(1, 1, size_y, 1, 1).repeat([batchsize, size_x, 1, size_z, 1])\n",
    "        gridz = torch.tensor(np.linspace(0, 1, size_z), dtype=torch.float)\n",
    "        gridz = gridz.reshape(1, 1, 1, size_z, 1).repeat([batchsize, size_x, size_y, 1, 1])\n",
    "        return torch.cat((gridx, gridy, gridz), dim=-1).to(device)"
   ]
  },
  {
   "cell_type": "code",
   "execution_count": 9,
   "metadata": {},
   "outputs": [],
   "source": [
    "raw_navier_data = scipy.io.loadmat('./datasets/NavierStokes_V1e-5_N1200_T20.mat')"
   ]
  },
  {
   "cell_type": "code",
   "execution_count": 70,
   "metadata": {},
   "outputs": [],
   "source": [
    "################################################################\n",
    "# configs\n",
    "################################################################\n",
    "\n",
    "PATH = './datasets/NavierStokes_V1e-5_N1200_T20.mat'\n",
    "\n",
    "ntrain = 1000\n",
    "ntest = 200\n",
    "\n",
    "modes = 8\n",
    "width = 20\n",
    "\n",
    "batch_size = 10\n",
    "learning_rate = 0.001\n",
    "epochs = 10\n",
    "iterations = epochs*(ntrain//batch_size)\n",
    "\n",
    "path = 'ns_fourier_3d_N'+str(ntrain)+'_ep' + str(epochs) + '_m' + str(modes) + '_w' + str(width)\n",
    "path_model = 'model/'+path\n",
    "path_train_err = 'results/'+path+'train.txt'\n",
    "path_test_err = 'results/'+path+'test.txt'\n",
    "path_image = 'image/'+path\n",
    "\n",
    "runtime = np.zeros(2, )\n",
    "t1 = default_timer()\n",
    "\n",
    "sub = 1\n",
    "S = 64 // sub\n",
    "T_in = 10\n",
    "T = 10 # T=40 for V1e-3; T=20 for V1e-4; T=10 for V1e-5;"
   ]
  },
  {
   "cell_type": "code",
   "execution_count": 55,
   "metadata": {},
   "outputs": [],
   "source": [
    "reader = MatReader(PATH)\n",
    "train_a = reader.read_field('u')[:ntrain,::sub,::sub,:T_in]\n",
    "train_u = reader.read_field('u')[:ntrain,::sub,::sub,T_in:T+T_in]"
   ]
  },
  {
   "cell_type": "code",
   "execution_count": 56,
   "metadata": {},
   "outputs": [],
   "source": [
    "reader = MatReader(PATH)\n",
    "test_a = reader.read_field('u')[-ntest:,::sub,::sub,:T_in]\n",
    "test_u = reader.read_field('u')[-ntest:,::sub,::sub,T_in:T+T_in]"
   ]
  },
  {
   "cell_type": "code",
   "execution_count": 57,
   "metadata": {},
   "outputs": [
    {
     "name": "stdout",
     "output_type": "stream",
     "text": [
      "torch.Size([1000, 64, 64, 10])\n",
      "torch.Size([200, 64, 64, 10])\n"
     ]
    }
   ],
   "source": [
    "print(train_u.shape)\n",
    "print(test_u.shape)\n",
    "assert (S == train_u.shape[-2])\n",
    "assert (T == train_u.shape[-1])"
   ]
  },
  {
   "cell_type": "code",
   "execution_count": 58,
   "metadata": {},
   "outputs": [],
   "source": [
    "a_normalizer = UnitGaussianNormalizer(train_a)\n",
    "train_a = a_normalizer.encode(train_a)\n",
    "test_a = a_normalizer.encode(test_a)\n",
    "\n",
    "y_normalizer = UnitGaussianNormalizer(train_u)\n",
    "train_u = y_normalizer.encode(train_u)\n",
    "\n",
    "train_a = train_a.reshape(ntrain,S,S,1,T_in).repeat([1,1,1,T,1])\n",
    "test_a = test_a.reshape(ntest,S,S,1,T_in).repeat([1,1,1,T,1])\n",
    "\n",
    "train_loader = torch.utils.data.DataLoader(torch.utils.data.TensorDataset(train_a, train_u), batch_size=batch_size, shuffle=True)\n",
    "test_loader = torch.utils.data.DataLoader(torch.utils.data.TensorDataset(test_a, test_u), batch_size=batch_size, shuffle=False)"
   ]
  },
  {
   "cell_type": "code",
   "execution_count": 59,
   "metadata": {},
   "outputs": [
    {
     "name": "stdout",
     "output_type": "stream",
     "text": [
      "preprocessing finished, time used: 12.229813040999943\n"
     ]
    }
   ],
   "source": [
    "t2 = default_timer()\n",
    "print('preprocessing finished, time used:', t2-t1)"
   ]
  },
  {
   "cell_type": "code",
   "execution_count": 72,
   "metadata": {},
   "outputs": [
    {
     "name": "stdout",
     "output_type": "stream",
     "text": [
      "6560681\n",
      "0 262.17223487499996 0.8085853219032287 0.9029650163650512\n",
      "1 270.1122075000003 0.5684630889892578 0.8829256391525269\n",
      "2 277.07724354200036 0.4609022469520569 0.8658654022216797\n",
      "3 280.9868006249999 0.4118389720916748 0.8411669754981994\n",
      "4 282.01234866600043 0.3858358795642853 0.847520956993103\n",
      "5 283.3661964160001 0.3655553662776947 0.8496846270561218\n",
      "6 288.47305895800037 0.3518146705627441 0.8386145329475403\n",
      "7 293.55912833299953 0.3405229687690735 0.8379120230674744\n",
      "8 298.49542683300024 0.33000686478614805 0.8326016068458557\n",
      "9 299.9284085829995 0.3216732544898987 0.8416186475753784\n",
      "TOTAL TIME: ---2836.18\n"
     ]
    }
   ],
   "source": [
    "# FNO RESULTS\n",
    "############################################################################\n",
    "test_num = 10 \n",
    "model = FNO3d(modes, modes, modes, width).to(device)\n",
    "print(count_params(model))\n",
    "out = train_model(model, epochs, batch_size, learning_rate, weight_decay, step_size, gamma)"
   ]
  },
  {
   "cell_type": "code",
   "execution_count": 73,
   "metadata": {},
   "outputs": [],
   "source": [
    "K = torch.unsqueeze(test_loader.dataset[10][0], 0).to(device)"
   ]
  },
  {
   "cell_type": "code",
   "execution_count": 74,
   "metadata": {},
   "outputs": [],
   "source": [
    "fno_model = out.get(\"model\")\n"
   ]
  },
  {
   "cell_type": "code",
   "execution_count": 76,
   "metadata": {},
   "outputs": [],
   "source": [
    "fno_model.eval()\n",
    "predicted =fno_model(K).detach().cpu().numpy()"
   ]
  },
  {
   "cell_type": "code",
   "execution_count": 78,
   "metadata": {},
   "outputs": [
    {
     "data": {
      "text/plain": [
       "<matplotlib.image.AxesImage at 0x17fa07220>"
      ]
     },
     "execution_count": 78,
     "metadata": {},
     "output_type": "execute_result"
    },
    {
     "data": {
      "image/png": "[encoded data removed]",
      "text/plain": [
       "<Figure size 640x480 with 1 Axes>"
      ]
     },
     "metadata": {},
     "output_type": "display_data"
    }
   ],
   "source": [
    "## Testing on unseen data.\n",
    "plt.imshow(predicted[0,:,:,0,0])"
   ]
  },
  {
   "attachments": {},
   "cell_type": "markdown",
   "metadata": {},
   "source": [
    "## Implementation of 2D FNO to an Inverse PDE problem - using simple and fast data"
   ]
  },
  {
   "attachments": {},
   "cell_type": "markdown",
   "metadata": {},
   "source": [
    "### Model Metrics\n",
    "We generated a set of basic image metrics which include RMSE (root-mean-square error), PSNR (peak signal-to-noise ratio) and SSIM (structural similiarity index). These metrics provide a complete overview of our reconstruction results:\n",
    "\n",
    " $RMSE = \\sqrt{MSE} =  \\sqrt{\\frac{1}{n}\\Sigma_{i=1}^{n}{\\Big(\\frac{\\text{predicted} - \\text{actual} }{\\sigma_i}\\Big)^2}}$ \n",
    " \n",
    " \n",
    " ${PSNR} = 10\\log_{10} \\frac{{MAX}^2_I}{MSE}$\n",
    "\n",
    "$ SSIM = \\frac{(2\\mu_x\\mu_y + C_1) + (2 \\sigma _{xy} + C_2)}{(\\mu_x^2 + \\mu_y^2+C_1) (\\sigma_x^2 + \\sigma_y^2+C_2)} $\n",
    "\n",
    "These are standard image quaity and image reconstruction metrics. "
   ]
  },
  {
   "cell_type": "code",
   "execution_count": 28,
   "metadata": {},
   "outputs": [],
   "source": [
    "# MODEL METRICS\n",
    "###################################\n",
    "# MODEL METRICS\n",
    "###################################\n",
    "def model_metrics(model,test_loader,ntrain):\n",
    "    rms_values, psnr_values, ssim_values, uqi_values = [], [], [], []\n",
    "\n",
    "    for test_num in range(ntest):\n",
    "        K = torch.unsqueeze(test_loader.dataset[test_num][0], 0).to(device)\n",
    "        model.eval()\n",
    "\n",
    "        predicted_np = np.reshape(model(K).detach().cpu().numpy(),(16,16))\n",
    "\n",
    "        truth = test_loader.dataset[test_num][1]\n",
    "        truth_np = np.reshape(truth.numpy(),(16,16))\n",
    "\n",
    "        #diff_image = predicted - truth_np\n",
    "        #np.sqrt(np.sum(diff_image**2)/256)\n",
    "\n",
    "        rms_values.append(rmse(predicted_np, truth_np))\n",
    "        psnr_values.append(psnr(truth_np, predicted_np, data_range=predicted_np.max() - predicted_np.min()))\n",
    "        ssim_values.append(ssim(truth_np, predicted_np, data_range=predicted_np.max() - predicted_np.min()))\n",
    "        uqi_values.append(uqi(predicted_np, truth_np))\n",
    "\n",
    "    model_rms = sum(rms_values)/ len(rms_values)\n",
    "    std_rms = np.std(np.array(rms_values))\n",
    "\n",
    "    model_psnr = sum(psnr_values)/ len(psnr_values)\n",
    "    std_psnr = np.std(np.array(psnr_values))\n",
    "\n",
    "    model_ssim = sum(ssim_values)/ len(ssim_values)\n",
    "    std_ssim = np.std(np.array(ssim_values))\n",
    "\n",
    "    model_uqi = sum(uqi_values)/ len(uqi_values)\n",
    "    std_uqi = np.std(np.array(uqi_values))\n",
    "\n",
    "\n",
    "    print(\"RMSE: \", round(model_rms,5), round(std_rms,5), sep=\"---\")\n",
    "    print(\"PSNR: \", round(model_psnr,5), round(std_psnr,5), sep=\"---\")\n",
    "    print(\"SSIM: \", round(model_ssim,5), round(std_ssim,5), sep=\"---\")\n",
    "    #print(\"UQI: \", model_uqi, std_uqi, sep=\"---\")\n",
    "\n",
    "\n",
    "    output = {\n",
    "    \"rms\": rms_values,\n",
    "    \"psnr\": psnr_values,\n",
    "    \"ssim\": ssim_values,\n",
    "    \"uqi\": uqi_values,\n",
    "    # average values\n",
    "    'model_rms': [round(model_rms,5),round(std_rms,5)],\n",
    "    'model_psnr': [round(model_psnr,5),round(std_psnr,5)],\n",
    "    'model_ssim': [round(model_ssim,5),round(std_ssim,5)]\n",
    "    }\n",
    "    return output "
   ]
  },
  {
   "attachments": {},
   "cell_type": "markdown",
   "metadata": {},
   "source": [
    "### Architectures and Training Algorithm"
   ]
  },
  {
   "cell_type": "code",
   "execution_count": 29,
   "metadata": {},
   "outputs": [],
   "source": [
    "# Multi-Layer Perceptron\n",
    "###################################\n",
    "\n",
    "class MLP(nn.Module):\n",
    "    def __init__(self):\n",
    "        super(MLP, self).__init__()\n",
    "       \n",
    "        self.fc0 = nn.Linear(64, 400)\n",
    "        self.fc1 = nn.Linear(400, 256)\n",
    "\n",
    "    def forward(self, x):       \n",
    "        x = self.fc0(x)\n",
    "        x = F.relu(x)\n",
    "\n",
    "        x = self.fc1(x)\n",
    "        x = F.sigmoid(x)\n",
    "        return x"
   ]
  },
  {
   "cell_type": "code",
   "execution_count": 30,
   "metadata": {},
   "outputs": [],
   "source": [
    "# Convoluational Neural Network\n",
    "###################################\n",
    "\n",
    "class CNN(nn.Module):\n",
    "    def __init__(self):\n",
    "        super(CNN, self).__init__()\n",
    "       \n",
    "        self.fc0 = nn.Linear(64, 256)\n",
    "\n",
    "        self.conv1 = nn.Conv2d(1, 128, kernel_size=5, stride=1, padding=2)\n",
    "        self.conv2 = nn.Conv2d(128, 1, kernel_size=1, stride=1, padding=0)\n",
    "        #self.conv3 = nn.Conv2d(32, 3, kernel_size=5, stride=1, padding=5//2),\n",
    "    def forward(self, x):\n",
    "       \n",
    "        x = self.fc0(x)\n",
    "        x = x.reshape(x.shape[0],1,16,16)\n",
    "\n",
    "        x = self.conv1(x)\n",
    "        x = F.relu(x)\n",
    "\n",
    "        x = self.conv2(x)        \n",
    "        x = F.sigmoid(x)\n",
    "        return x"
   ]
  },
  {
   "cell_type": "code",
   "execution_count": 31,
   "metadata": {},
   "outputs": [],
   "source": [
    "#   DEFINING THE TOP 2D FOURIER LAYER\n",
    "#####################################################################\n",
    "\n",
    "class SpectralConv2d(nn.Module):\n",
    "    def __init__(self, in_channels, out_channels, modes1, modes2):\n",
    "        super(SpectralConv2d, self).__init__()\n",
    "\n",
    "        \"\"\"\n",
    "        2D Fourier layer. It does FFT, linear transform, and Inverse FFT.    \n",
    "        \"\"\"\n",
    "\n",
    "        self.in_channels = in_channels\n",
    "        self.out_channels = out_channels\n",
    "        self.modes1 = modes1 #Number of Fourier modes to multiply, at most floor(N/2) + 1\n",
    "        self.modes2 = modes2\n",
    "\n",
    "        self.scale = (1 / (in_channels * out_channels))\n",
    "        self.weights1 = nn.Parameter(self.scale * torch.rand(in_channels, out_channels, self.modes1, self.modes2, dtype=torch.cfloat))\n",
    "        self.weights2 = nn.Parameter(self.scale * torch.rand(in_channels, out_channels, self.modes1, self.modes2, dtype=torch.cfloat))\n",
    "\n",
    "    # Complex multiplication\n",
    "    def compl_mul2d(self, input, weights):\n",
    "        # (batch, in_channel, x,y ), (in_channel, out_channel, x,y) -> (batch, out_channel, x,y)\n",
    "        #print('input',input.shape)\n",
    "        #print('weights',weights.shape)\n",
    "        #print(\"bixy,ioxy->boxy\")\n",
    "        R_out = torch.einsum(\"bixy,ioxy->boxy\", input, weights)\n",
    "        #print(R_out.shape)\n",
    "        return R_out\n",
    "\n",
    "    def forward(self, x):\n",
    "        batchsize = x.shape[0]\n",
    "        #Compute Fourier coeffcients up to factor of e^(- something constant)\n",
    "        x_ft = torch.fft.rfft2(x)\n",
    "\n",
    "        # Multiply relevant Fourier modes\n",
    "        out_ft = torch.zeros(batchsize, self.out_channels,  x.size(-2), x.size(-1)//2 + 1, dtype=torch.cfloat, device=x.device)\n",
    "        #print('what is out_ft', out_ft.shape)\n",
    "        out_ft[:, :, :self.modes1, :self.modes2] = \\\n",
    "            self.compl_mul2d(x_ft[:, :, :self.modes1, :self.modes2], self.weights1)\n",
    "        out_ft[:, :, -self.modes1:, :self.modes2] = \\\n",
    "            self.compl_mul2d(x_ft[:, :, -self.modes1:, :self.modes2], self.weights2)\n",
    "        #Return to physical space\n",
    "        x = torch.fft.irfft2(out_ft, s=(x.size(-2), x.size(-1)))\n",
    "        return x"
   ]
  },
  {
   "cell_type": "code",
   "execution_count": 32,
   "metadata": {},
   "outputs": [],
   "source": [
    "# FNO Architecture\n",
    "####################################### MODELS ###############################\n",
    "class FNO2d(nn.Module):\n",
    "    def __init__(self, modes1, modes2,  width):\n",
    "        super(FNO2d, self).__init__()\n",
    "\n",
    "        \"\"\"\n",
    "        The overall network. It contains 4 layers of the Fourier layer.\n",
    "        1. Lift the input to the desire channel dimension by self.fc0 .\n",
    "        2. 4 layers of the integral operators u' = (W + K)(u).\n",
    "            W defined by self.w; K defined by self.conv .\n",
    "        3. Project from the channel space to the output space by self.fc1 and self.fc2 .\n",
    "        \n",
    "        input: the solution of the coefficient function and locations (a(x, y), x, y)\n",
    "        input shape: (batchsize, x=s, y=s, c=3)\n",
    "        output: the solution \n",
    "        output shape: (batchsize, x=s, y=s, c=1)\n",
    "        \"\"\"\n",
    "\n",
    "        self.modes1 = modes1\n",
    "        self.modes2 = modes2\n",
    "        self.width = width\n",
    "        self.padding = 16 # pad the domain if input is non-periodic\n",
    "        self.fc0 = nn.Linear(3, self.width) # input channel is 3: (a(x, y), x, y)\n",
    "\n",
    "        self.conv0 = SpectralConv2d(self.width, self.width, self.modes1, self.modes2)\n",
    "        self.conv1 = SpectralConv2d(self.width, self.width, self.modes1, self.modes2)\n",
    "        self.conv2 = SpectralConv2d(self.width, self.width, self.modes1, self.modes2)\n",
    "        self.conv3 = SpectralConv2d(self.width, self.width, self.modes1, self.modes2)\n",
    "        self.w0 = nn.Conv2d(self.width, self.width, 1)\n",
    "        self.w1 = nn.Conv2d(self.width, self.width, 1)\n",
    "        self.w2 = nn.Conv2d(self.width, self.width, 1)\n",
    "        self.w3 = nn.Conv2d(self.width, self.width, 1)\n",
    "\n",
    "        self.fc1 = nn.Linear(self.width, 128)\n",
    "        self.fc2 = nn.Linear(128, 4)\n",
    "\n",
    "    def forward(self, x):\n",
    "        grid = self.get_grid(x.shape, x.device)\n",
    "        #print('x grid input shape', x.shape, 'grid input shape', grid.shape)\n",
    "        x = torch.cat((x, grid), dim=-1)\n",
    "        x = self.fc0(x)\n",
    "        x = x.permute(0, 3, 1, 2)\n",
    "        #x = F.pad(x, [0,self.padding, 0,self.padding])\n",
    "\n",
    "        x1 = self.conv0(x)\n",
    "        x2 = self.w0(x)\n",
    "        x = x1 + x2\n",
    "        x = F.gelu(x)\n",
    "\n",
    "        x1 = self.conv1(x)\n",
    "        x2 = self.w1(x)\n",
    "        x = x1 + x2\n",
    "        x = F.gelu(x)\n",
    "\n",
    "        x1 = self.conv2(x)\n",
    "        x2 = self.w2(x)\n",
    "        x = x1 + x2\n",
    "        x = F.gelu(x)\n",
    "\n",
    "        x1 = self.conv3(x)\n",
    "        x2 = self.w3(x)\n",
    "        x = x1 + x2\n",
    "\n",
    "        #x = x[..., :-self.padding, :-self.padding]\n",
    "        x = x.permute(0, 2, 3, 1)\n",
    "        x = self.fc1(x)\n",
    "        x = F.gelu(x)\n",
    "        x = self.fc2(x)\n",
    "        return x\n",
    "    \n",
    "    def get_grid(self, shape, device):\n",
    "        batchsize, size_x, size_y = shape[0], shape[1], shape[2]\n",
    "        gridx = torch.tensor(np.linspace(0, 1, size_x), dtype=torch.float)\n",
    "        gridx = gridx.reshape(1, size_x, 1, 1).repeat([batchsize, 1, size_y, 1])\n",
    "        gridy = torch.tensor(np.linspace(0, 1, size_y), dtype=torch.float)\n",
    "        gridy = gridy.reshape(1, 1, size_y, 1).repeat([batchsize, size_x, 1, 1])\n",
    "        return torch.cat((gridx, gridy), dim=-1).to(device)\n"
   ]
  },
  {
   "cell_type": "code",
   "execution_count": 52,
   "metadata": {},
   "outputs": [],
   "source": [
    "# TRAINING AND EVALUATION\n",
    "################################################################\n",
    "# TRAINING AND EVALUATION\n",
    "################################################################\n",
    "\n",
    "\n",
    "def train_model(model, epochs, batch_size, learning_rate, weight_decay, step_size, gamma):\n",
    "    optimizer = Adam(model.parameters(), lr=learning_rate, weight_decay=weight_decay)\n",
    "    scheduler = torch.optim.lr_scheduler.StepLR(optimizer, step_size=step_size, gamma=gamma)\n",
    "    train_losses, test_losses, epoch_time = [], [], []\n",
    "\n",
    "    myloss = LpLoss(size_average=False)\n",
    "    for ep in range(epochs):\n",
    "        model.train()\n",
    "        t1 = default_timer()\n",
    "        train_mse = 0\n",
    "        train_l2 = 0\n",
    "        total_time = 0\n",
    "        for x, y in train_loader:\n",
    "            x, y = x.to(device), y.to(device)\n",
    "\n",
    "            optimizer.zero_grad()\n",
    "            #print('in: ',x.shape)\n",
    "            out = model(x)\n",
    "            #print('out: ',out.shape)\n",
    "\n",
    "            mse = F.mse_loss(out.view(batch_size, -1), y.view(batch_size, -1), reduction='mean')\n",
    "            l2 = myloss(out.view(batch_size, -1), y.view(batch_size, -1))\n",
    "            l2.backward() # use the l2 relative loss\n",
    "\n",
    "            optimizer.step()\n",
    "            train_mse += mse.item()\n",
    "            train_l2 += l2.item()\n",
    "\n",
    "        scheduler.step()\n",
    "        model.eval()\n",
    "        test_l2 = 0.0\n",
    "        with torch.no_grad():\n",
    "            for x, y in test_loader:\n",
    "                x, y = x.to(device), y.to(device)\n",
    "\n",
    "                out = model(x)\n",
    "                test_l2 += myloss(out.view(batch_size, -1), y.view(batch_size, -1)).item()\n",
    "\n",
    "        #train_mse /= len(train_loader)\n",
    "        train_l2 /= ntrain\n",
    "        train_losses.append(train_l2)\n",
    "        test_l2 /= ntest\n",
    "        test_losses.append(test_l2)\n",
    "\n",
    "\n",
    "        t2 = default_timer()\n",
    "        epoch_time.append(t2 - t1)\n",
    "\n",
    "        print(ep, t2 - t1, train_l2, test_l2)\n",
    "    total_time = sum(epoch_time)\n",
    "    print(\"TOTAL TIME: \", round(total_time,2), sep=\"---\")\n",
    "\n",
    "    output = {\n",
    "    \"train_losses\": train_losses,\n",
    "    \"test_losses\": test_losses,\n",
    "    \"epoch_time\": epoch_time,\n",
    "    \"training_time\": round(total_time,2),\n",
    "    \"model\": model\n",
    "    }\n",
    "    return output "
   ]
  },
  {
   "attachments": {},
   "cell_type": "markdown",
   "metadata": {},
   "source": [
    "### Loading Raw Data\n",
    "\n",
    "The data is generated by a 3 step process:\n",
    "* Random elliptical 16 by 16 images are created\n",
    "* These images are mapped into a circlular domain. (This is our solution space)\n",
    "* The forward problem is solved using FEM and only the boundary values are kept. (This is our measurement space) \n",
    "\n",
    "\n",
    "Our task is to reconstruct the solution space from our set of boundary values that defines our measurement space."
   ]
  },
  {
   "cell_type": "code",
   "execution_count": 63,
   "metadata": {},
   "outputs": [],
   "source": [
    "raw_data = scipy.io.loadmat('./datasets/complete_data')\n",
    "\n",
    "sol = np.asarray(raw_data['solution_data'])\n",
    "mes = np.asarray(raw_data['measurement_data'])\n",
    "\n",
    "\n",
    "def convert_data(data_x, data_y):\n",
    "    data_X = torch.from_numpy(data_x).float()\n",
    "    data_Y = torch.from_numpy(data_y).float()\n",
    "    return data_X, data_Y"
   ]
  },
  {
   "cell_type": "code",
   "execution_count": 64,
   "metadata": {},
   "outputs": [
    {
     "data": {
      "text/plain": [
       "<matplotlib.image.AxesImage at 0x16b977460>"
      ]
     },
     "execution_count": 64,
     "metadata": {},
     "output_type": "execute_result"
    },
    {
     "data": {
      "image/png": "[encoded data removed]",
      "text/plain": [
       "<Figure size 640x480 with 2 Axes>"
      ]
     },
     "metadata": {},
     "output_type": "display_data"
    }
   ],
   "source": [
    "test_num = 423\n",
    "\n",
    "f, axarr = plt.subplots(1,2)\n",
    "axarr[0].title.set_text('Measurement Data')\n",
    "axarr[0].imshow(np.reshape(mes[test_num],(8,8)))\n",
    "axarr[1].title.set_text('Ground Truth')\n",
    "axarr[1].imshow(np.reshape(sol[test_num],(16,16)))"
   ]
  },
  {
   "attachments": {},
   "cell_type": "markdown",
   "metadata": {},
   "source": [
    "# Investigating Each Architectures"
   ]
  },
  {
   "attachments": {},
   "cell_type": "markdown",
   "metadata": {},
   "source": [
    "### FNO : Data Loading, Training and Results\n",
    "\n",
    "<img src= https://zongyi-li.github.io/neural-operator/img/fourier_full_arch5.png width=\"800\">\n"
   ]
  },
  {
   "cell_type": "code",
   "execution_count": 46,
   "metadata": {},
   "outputs": [
    {
     "name": "stdout",
     "output_type": "stream",
     "text": [
      "torch.Size([8000, 8, 8, 1]) torch.Size([8000, 16, 16, 1])\n"
     ]
    }
   ],
   "source": [
    "# DATA LOADING\n",
    "############################## DATA LOADING ########################################\n",
    "\n",
    "sol_temp = np.expand_dims(sol,axis = 1 )\n",
    "#sol_temp = np.sqeeze(sol_temp)\n",
    "mes_temp = np.transpose(np.expand_dims(mes,axis = 1 ),(0,2,1))\n",
    "\n",
    "# dimensions of solution space\n",
    "y_dim1 = 16\n",
    "y_dim2 = 16\n",
    "\n",
    "# dimensions of measurement space\n",
    "x_dim2 = 8     # no of detectors\n",
    "x_dim1 = int(mes.shape[1]/x_dim2)\n",
    "\n",
    "def convert_data(data_x, data_y):\n",
    "    data_X = torch.from_numpy(data_x).float()\n",
    "    data_Y = torch.from_numpy(data_y).float()\n",
    "    return data_X, data_Y\n",
    "\n",
    "# we are solving the inverse problem, so going from measurements, to solutions\n",
    "X, y = convert_data(mes_temp, sol_temp)\n",
    "X_train, X_test, y_train, y_test = train_test_split(X, y, test_size=0.2, random_state=42)\n",
    "\n",
    "y_train = y_train.squeeze()\n",
    "y_test = y_test.squeeze()\n",
    "\n",
    "y_test = y_test.reshape(y_test.shape[0],y_dim1,y_dim2,1)\n",
    "y_train = y_train.reshape(y_train.shape[0],y_dim1,y_dim2,1)\n",
    "\n",
    "X_test = X_test.reshape(X_test.shape[0], x_dim1,x_dim2,1)\n",
    "X_train = X_train.reshape(X_train.shape[0], x_dim1,x_dim2,1)\n",
    "\n",
    "train_dataset = TensorDataset( X_train, y_train )\n",
    "test_dataset = TensorDataset( X_test, y_test )\n",
    "\n",
    "train_loader = DataLoader(train_dataset, shuffle=True, batch_size=batch_size)\n",
    "test_loader = torch.utils.data.DataLoader(test_dataset, batch_size=batch_size, shuffle=False)\n",
    "\n",
    "ntrain = X_train.shape[0]\n",
    "ntest = X_test.shape[0]\n",
    "\n",
    "print(X_train.shape, y_train.shape)\n",
    "\n",
    "fno_loader = test_loader"
   ]
  },
  {
   "cell_type": "code",
   "execution_count": 47,
   "metadata": {},
   "outputs": [
    {
     "name": "stdout",
     "output_type": "stream",
     "text": [
      "1664132\n",
      "0 20.802166499999885 0.166266284160316 0.12317899981141091\n",
      "1 20.934031957999878 0.1184460022971034 0.11360908767580986\n",
      "2 20.970168707999846 0.11077890707552433 0.10508058217167854\n",
      "3 20.998950582999896 0.10681659756600857 0.10606191730499268\n",
      "4 20.975969707999866 0.1040009619668126 0.10104730954766274\n",
      "5 20.999074125000107 0.1011705130264163 0.10258634898066521\n",
      "6 21.025019832999988 0.10008476480841637 0.09723516488075257\n",
      "7 21.019025332999945 0.09835758396983146 0.09762000569701194\n",
      "8 21.030823832999886 0.09484455678611994 0.09570192033052445\n",
      "9 21.042363209000086 0.09432793553173542 0.09196248397231102\n",
      "10 21.04716329200005 0.09253247360885143 0.10370087659358979\n",
      "11 21.075450332999935 0.09007255049794913 0.0919679833650589\n",
      "12 21.052504208000073 0.08957727231085301 0.10656499114632606\n",
      "13 21.048402125000166 0.08774116262048483 0.0911774516403675\n",
      "14 21.611397665999903 0.08607982760667801 0.08696564346551895\n",
      "15 21.634127457999966 0.08516174650937319 0.08375703400373459\n",
      "16 21.455529542000022 0.08358572636544705 0.08639263442158698\n",
      "17 22.195888792000005 0.08276722916215658 0.08206669360399246\n",
      "18 23.594695334000107 0.08189521134644746 0.08218942984938621\n",
      "19 23.09223887500002 0.08063574576377869 0.08399795588850975\n",
      "TOTAL TIME: ---427.6\n",
      "RMSE: ---0.00227---0.00102\n",
      "PSNR: ---27.81697---2.62255\n",
      "SSIM: ---0.91615---0.02592\n"
     ]
    },
    {
     "data": {
      "text/plain": [
       "<matplotlib.colorbar.Colorbar at 0x28cc13c70>"
      ]
     },
     "execution_count": 47,
     "metadata": {},
     "output_type": "execute_result"
    },
    {
     "data": {
      "image/png": "[encoded data removed]",
      "text/plain": [
       "<Figure size 640x480 with 2 Axes>"
      ]
     },
     "metadata": {},
     "output_type": "display_data"
    }
   ],
   "source": [
    "# FNO RESULTS\n",
    "############################################################################\n",
    "\n",
    "model = FNO2d(modes, modes, width).to(device)\n",
    "print(count_params(model))\n",
    "out = train_model(model, epochs, batch_size, learning_rate, weight_decay, step_size, gamma)\n",
    "fno_out = out\n",
    "\n",
    "fno_model = out.get(\"model\")\n",
    "fno_metrics = model_metrics(fno_model,test_loader,ntrain)\n",
    "\n",
    "# TEST PREDICTIONS\n",
    "K = torch.unsqueeze(test_loader.dataset[test_num][0], 0).to(device)\n",
    "fno_model.eval()\n",
    "predicted = np.reshape(fno_model(K).detach().cpu().numpy(),(16,16))\n",
    "plt.imshow(predicted)\n",
    "plt.colorbar()"
   ]
  },
  {
   "attachments": {},
   "cell_type": "markdown",
   "metadata": {},
   "source": [
    "### MLP : Data Loading, Training and Results\n",
    "\n",
    "<img src= https://images.deepai.org/glossary-terms/49157de013394ab7a36022759a55b6aa/multipercep.jpg width=\"600\">\n"
   ]
  },
  {
   "cell_type": "code",
   "execution_count": 38,
   "metadata": {},
   "outputs": [
    {
     "name": "stdout",
     "output_type": "stream",
     "text": [
      "training: measurement torch.Size([8000, 64]) solution torch.Size([8000, 256])\n",
      "test: measurement torch.Size([2000, 64]) solution torch.Size([2000, 256])\n"
     ]
    }
   ],
   "source": [
    "# DATA LOADING\n",
    "############################## DATA LOADING ########################################\n",
    "X, y = convert_data(mes, sol)\n",
    "X_train, X_test, y_train, y_test = train_test_split(X, y, test_size=0.2, random_state=42)\n",
    "\n",
    "\n",
    "train_dataset = TensorDataset( X_train, y_train )\n",
    "test_dataset = TensorDataset( X_test, y_test )\n",
    "\n",
    "train_loader = DataLoader(train_dataset, shuffle=True, batch_size=batch_size)\n",
    "test_loader = torch.utils.data.DataLoader(test_dataset, batch_size=batch_size, shuffle=False)\n",
    "\n",
    "ntrain = X_train.shape[0]\n",
    "ntest = X_test.shape[0]\n",
    "\n",
    "print('training: measurement', X_train.shape, 'solution', y_train.shape)\n",
    "print('test: measurement', X_test.shape, 'solution', y_test.shape)\n",
    "\n",
    "mlp_loader = test_loader"
   ]
  },
  {
   "cell_type": "code",
   "execution_count": 42,
   "metadata": {},
   "outputs": [
    {
     "name": "stdout",
     "output_type": "stream",
     "text": [
      "128656\n",
      "0 0.4798551670000961 0.9220539232492447 0.776522399187088\n",
      "1 0.459261541999922 0.6734874342978001 0.40173179852962493\n",
      "2 0.500265833000185 0.246770461589098 0.16889045596122743\n",
      "3 0.4574748750001163 0.17425971883535385 0.21876934051513672\n",
      "4 0.4540780419999919 0.15938313560187817 0.14659036427736283\n",
      "5 0.4529078750001645 0.14810657048225404 0.13681151160597801\n",
      "6 0.4557677089999288 0.14355759401619433 0.1498059219121933\n",
      "7 0.45361962499987385 0.1415105291083455 0.14412218230962753\n",
      "8 0.4588632080001389 0.13940945745259523 0.1303683333992958\n",
      "9 0.4557944159998897 0.13588417135179043 0.166428927898407\n",
      "10 0.45749320799995985 0.13629769019782542 0.13093154209852217\n",
      "11 0.4573293339999509 0.13417245548963547 0.12908452826738356\n",
      "12 0.4572679580001022 0.13363302107900382 0.13543557435274123\n",
      "13 0.45864991700000246 0.13280865371972322 0.1317081513106823\n",
      "14 0.4501194170002236 0.1316836483106017 0.1256203238964081\n",
      "15 0.4537993330000063 0.13059920666366814 0.1263338427245617\n",
      "16 0.4511811659999694 0.12991541068255902 0.12898470568656922\n",
      "17 0.45382016600001407 0.12875871919095516 0.14594954591989517\n",
      "18 0.4557241659999818 0.12894163985550403 0.1281967223584652\n",
      "19 0.4532339579998279 0.1278884492814541 0.12561068460345268\n",
      "TOTAL TIME: ---9.18\n",
      "RMSE: ---0.00338---0.00146\n",
      "PSNR: ---23.67949---2.41092\n",
      "SSIM: ---0.82782---0.04128\n"
     ]
    },
    {
     "data": {
      "text/plain": [
       "<matplotlib.colorbar.Colorbar at 0x28ca2ab50>"
      ]
     },
     "execution_count": 42,
     "metadata": {},
     "output_type": "execute_result"
    },
    {
     "data": {
      "image/png": "[encoded data removed]",
      "text/plain": [
       "<Figure size 640x480 with 2 Axes>"
      ]
     },
     "metadata": {},
     "output_type": "display_data"
    }
   ],
   "source": [
    "model = MLP().to(device)\n",
    "print(count_params(model))\n",
    "out = train_model(model, epochs, batch_size, learning_rate, weight_decay, step_size, gamma)\n",
    "mlp_out = out\n",
    "\n",
    "mlp_model = out.get(\"model\")\n",
    "mlp_metrics = model_metrics(mlp_model,test_loader,ntrain)\n",
    "\n",
    "# TEST NETWORK RESULTS\n",
    "############################################################################\n",
    "K = torch.unsqueeze(test_loader.dataset[test_num][0], 0).to(device)\n",
    "mlp_model.eval()\n",
    "predicted = np.reshape(mlp_model(K).detach().cpu().numpy(),(16,16))\n",
    "plt.imshow(predicted)\n",
    "plt.colorbar()"
   ]
  },
  {
   "attachments": {},
   "cell_type": "markdown",
   "metadata": {},
   "source": [
    "### CNN DATA AND RESULTS\n",
    "\n",
    "<img src= https://miro.medium.com/max/1400/1*hYN6b13CKaTN1jnafkq5KQ.jpeg width=\"800\">"
   ]
  },
  {
   "cell_type": "code",
   "execution_count": 43,
   "metadata": {},
   "outputs": [
    {
     "name": "stdout",
     "output_type": "stream",
     "text": [
      "training data: measurements torch.Size([8000, 1, 64]) solution torch.Size([8000, 1, 16, 16])\n",
      "training data: measurements torch.Size([2000, 1, 64]) solution torch.Size([2000, 1, 16, 16])\n"
     ]
    }
   ],
   "source": [
    "# we are solving the inverse problem, so going from measurements, to solutions\n",
    "\n",
    "X_dim = X_train.shape[1]\n",
    "y_dim = y_train.shape[1]\n",
    "\n",
    "X_train = X_train.reshape(ntrain,1,X_dim)\n",
    "X_test = X_test.reshape(ntest,1,X_dim)\n",
    "\n",
    "y_train = y_train.reshape(ntrain,1,16,16)\n",
    "y_test = y_test.reshape(ntest,1,16,16)\n",
    "\n",
    "train_dataset = TensorDataset( X_train, y_train )\n",
    "test_dataset = TensorDataset( X_test, y_test )\n",
    "\n",
    "train_loader = DataLoader(train_dataset, shuffle=True, batch_size=batch_size)\n",
    "test_loader = torch.utils.data.DataLoader(test_dataset, batch_size=batch_size, shuffle=False)\n",
    "\n",
    "print('training data: measurements', X_train.shape, 'solution', y_train.shape)\n",
    "print('training data: measurements', X_test.shape, 'solution', y_test.shape)\n",
    "\n",
    "cnn_loader = test_loader"
   ]
  },
  {
   "cell_type": "code",
   "execution_count": 44,
   "metadata": {},
   "outputs": [
    {
     "name": "stdout",
     "output_type": "stream",
     "text": [
      "20097\n",
      "0 1.00891108299993 0.7017168063223362 0.28333117651939393\n",
      "1 0.9910559999998441 0.24696073658764361 0.2040865597128868\n",
      "2 0.8969239169998673 0.2029537862688303 0.22266729438304902\n",
      "3 0.8913648749999084 0.18633519534766674 0.17360471910238265\n",
      "4 0.8964897500000006 0.1758810895383358 0.17321325516700745\n",
      "5 0.8884460410001793 0.16657539996504783 0.15826143485307692\n",
      "6 0.8925722919998407 0.15918996015191078 0.15099721068143845\n",
      "7 0.9001174999998511 0.15531235589087009 0.17443570101261138\n",
      "8 0.8935297909999917 0.15112347450852395 0.1498851798772812\n",
      "9 0.9267147499999737 0.14861998514831065 0.14892020654678345\n",
      "10 0.8898990419997972 0.1450805028155446 0.13777428638935088\n",
      "11 0.8921539580001081 0.14224711690098046 0.14672803342342378\n",
      "12 0.8913249580000411 0.14153608464449643 0.14093208003044128\n",
      "13 0.894343458999856 0.14011348708719015 0.13374685820937157\n",
      "14 0.895135707999998 0.13760531213879584 0.14588632464408874\n",
      "15 0.8954539999999724 0.13895522399246693 0.13429374593496324\n",
      "16 0.8925419170000168 0.13644719729572535 0.13985066604614257\n",
      "17 0.8909730000000309 0.13493309714645146 0.13903334391117095\n",
      "18 0.8772496670001146 0.13446818794310092 0.13957554423809052\n",
      "19 0.88976204100004 0.13434835537523032 0.1298465247452259\n",
      "TOTAL TIME: ---18.09\n",
      "RMSE: ---0.0035---0.00151\n",
      "PSNR: ---23.05858---2.64954\n",
      "SSIM: ---0.80931---0.04384\n"
     ]
    },
    {
     "data": {
      "text/plain": [
       "<matplotlib.colorbar.Colorbar at 0x28cb65310>"
      ]
     },
     "execution_count": 44,
     "metadata": {},
     "output_type": "execute_result"
    },
    {
     "data": {
      "image/png": "[encoded data removed]",
      "text/plain": [
       "<Figure size 640x480 with 2 Axes>"
      ]
     },
     "metadata": {},
     "output_type": "display_data"
    }
   ],
   "source": [
    "# SIGMA - TEST NETWORK\n",
    "############################################################################\n",
    "\n",
    "model = CNN().to(device)\n",
    "print(count_params(model))\n",
    "out = train_model(model, epochs, batch_size, learning_rate, weight_decay, step_size, gamma)\n",
    "cnn_out = out\n",
    "\n",
    "cnn_model = out.get(\"model\")\n",
    "cnn_metrics = model_metrics(cnn_model,test_loader,ntrain)\n",
    "\n",
    "# TEST NETWORK RESULTS\n",
    "############################################################################\n",
    "K = torch.unsqueeze(test_loader.dataset[test_num][0], 0).to(device)\n",
    "cnn_model.eval()\n",
    "predicted = np.reshape(cnn_model(K).detach().cpu().numpy(),(16,16))\n",
    "plt.imshow(predicted)\n",
    "plt.colorbar()"
   ]
  },
  {
   "attachments": {},
   "cell_type": "markdown",
   "metadata": {},
   "source": [
    "### Direct Comparison Between Models"
   ]
  },
  {
   "cell_type": "code",
   "execution_count": 26,
   "metadata": {},
   "outputs": [
    {
     "data": {
      "text/plain": [
       "<matplotlib.image.AxesImage at 0x2082d987dc0>"
      ]
     },
     "execution_count": 26,
     "metadata": {},
     "output_type": "execute_result"
    },
    {
     "data": {
      "image/png": "[encoded data removed]",
      "text/plain": [
       "<Figure size 1080x1080 with 4 Axes>"
      ]
     },
     "metadata": {
      "needs_background": "light"
     },
     "output_type": "display_data"
    }
   ],
   "source": [
    "test_num = 423\n",
    "\n",
    "### GROUND TRUTH, FNO, MLP, CNN\n",
    "\n",
    "\n",
    "f, axarr = plt.subplots(1,4, figsize=(15, 15))\n",
    "\n",
    "truth_out = test_loader.dataset[test_num][1]\n",
    "axarr[0].title.set_text('Ground Truth')\n",
    "axarr[0].imshow(np.reshape(truth_out.numpy(),(16,16)), vmin=0, vmax=0.05)\n",
    "\n",
    "K = torch.unsqueeze(fno_loader.dataset[test_num][0], 0).to(device)\n",
    "predicted = np.reshape(fno_model(K).detach().cpu().numpy(),(16,16))\n",
    "axarr[1].title.set_text('FNO Results')\n",
    "axarr[1].imshow(predicted, vmin=0, vmax=0.05)\n",
    "\n",
    "K = torch.unsqueeze(cnn_loader.dataset[test_num][0], 0).to(device)\n",
    "predicted = np.reshape(cnn_model(K).detach().cpu().numpy(),(16,16))\n",
    "axarr[2].title.set_text('CNN Results')\n",
    "axarr[2].imshow(predicted, vmin=0, vmax=0.05)\n",
    "\n",
    "\n",
    "K = torch.unsqueeze(mlp_loader.dataset[test_num][0], 0).to(device)\n",
    "predicted = np.reshape(mlp_model(K).detach().cpu().numpy(),(16,16))\n",
    "axarr[3].title.set_text('MLP Results')\n",
    "axarr[3].imshow(predicted, vmin=0, vmax=0.05)"
   ]
  },
  {
   "cell_type": "code",
   "execution_count": 30,
   "metadata": {},
   "outputs": [
    {
     "name": "stdout",
     "output_type": "stream",
     "text": [
      "Architecture      Time (s)  RMSE (mean,std)     PSNR (mean,std)      SSIM (mean,std)\n",
      "--------------  ----------  ------------------  -------------------  ------------------\n",
      "FNO                 247.33  [0.00222, 0.00104]  [27.94514, 2.91786]  [0.92098, 0.02336]\n",
      "CNN                  54.5   [0.00361, 0.00146]  [23.09314, 2.25803]  [0.80454, 0.04876]\n",
      "MLP                  36.41  [0.0034, 0.00144]   [23.67901, 2.37488]  [0.82297, 0.04106]\n"
     ]
    }
   ],
   "source": [
    "table = [['Architecture', 'Time (s)', 'RMSE (mean,std)', 'PSNR (mean,std)', 'SSIM (mean,std)', 'Training Time (s)'],\n",
    "         ['FNO', fno_out.get(\"training_time\"), fno_metrics.get('model_rms'), fno_metrics.get('model_psnr'), fno_metrics.get('model_ssim')], \n",
    "         ['CNN', cnn_out.get(\"training_time\"), cnn_metrics.get('model_rms'), cnn_metrics.get('model_psnr'), cnn_metrics.get('model_ssim')], \n",
    "         ['MLP', mlp_out.get(\"training_time\"), mlp_metrics.get('model_rms'), mlp_metrics.get('model_psnr'), mlp_metrics.get('model_ssim')]]\n",
    "\n",
    "\n",
    "print(tabulate(table, headers='firstrow'))"
   ]
  },
  {
   "cell_type": "code",
   "execution_count": 59,
   "metadata": {},
   "outputs": [
    {
     "data": {
      "text/plain": [
       "<matplotlib.legend.Legend at 0x209a6583220>"
      ]
     },
     "execution_count": 59,
     "metadata": {},
     "output_type": "execute_result"
    },
    {
     "data": {
      "image/png": "[encoded data removed]",
      "text/plain": [
       "<Figure size 1080x360 with 2 Axes>"
      ]
     },
     "metadata": {
      "needs_background": "light"
     },
     "output_type": "display_data"
    }
   ],
   "source": [
    "f, axarr = plt.subplots(1,2, figsize=(15, 5))\n",
    "\n",
    "#FNO LOSSES\n",
    "axarr[0].title.set_text('Train Losses')\n",
    "axarr[0].plot(fno_out.get(\"train_losses\"), label='FNO')\n",
    "axarr[0].plot(cnn_out.get(\"train_losses\"), label='CNN')\n",
    "axarr[0].plot(mlp_out.get(\"train_losses\"), label='MLP')\n",
    "axarr[0].legend()\n",
    "#axarr[0,0].set_ylim([0.08, 0.16])\n",
    "\n",
    "\n",
    "axarr[1].title.set_text('Test Losses')\n",
    "axarr[1].plot(fno_out.get(\"test_losses\"), label='FNO')\n",
    "axarr[1].plot(cnn_out.get(\"test_losses\"), label='CNN')\n",
    "axarr[1].plot(mlp_out.get(\"test_losses\"), label='MLP')\n",
    "axarr[1].legend()\n",
    "#axarr[0,1].set_ylim([0.08, 0.16])\n"
   ]
  }
 ],
 "metadata": {
  "kernelspec": {
   "display_name": "Python 3.10.4 ('gundam')",
   "language": "python",
   "name": "python3"
  },
  "language_info": {
   "codemirror_mode": {
    "name": "ipython",
    "version": 3
   },
   "file_extension": ".py",
   "mimetype": "text/x-python",
   "name": "python",
   "nbconvert_exporter": "python",
   "pygments_lexer": "ipython3",
   "version": "3.8.16"
  },
  "orig_nbformat": 4,
  "vscode": {
   "interpreter": {
    "hash": "cddc3d62f9a7e02ecb46a81ab11648d63c0573e5e13f25e036352996103f8463"
   }
  }
 },
 "nbformat": 4,
 "nbformat_minor": 2
}
